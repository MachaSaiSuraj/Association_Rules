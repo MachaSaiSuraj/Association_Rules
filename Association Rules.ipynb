{
 "cells": [
  {
   "cell_type": "code",
   "execution_count": 1,
   "id": "801c89e7-542a-413b-863d-c6741652c6d1",
   "metadata": {},
   "outputs": [
    {
     "name": "stdout",
     "output_type": "stream",
     "text": [
      "Top 10 Association Rules:\n",
      "                   antecedents      consequents  antecedent support  \\\n",
      "134        (eggs, ground beef)  (mineral water)            0.019997   \n",
      "151        (ground beef, milk)  (mineral water)            0.021997   \n",
      "123   (chocolate, ground beef)  (mineral water)            0.023064   \n",
      "144  (frozen vegetables, milk)  (mineral water)            0.023597   \n",
      "100                     (soup)  (mineral water)            0.050527   \n",
      "161      (spaghetti, pancakes)  (mineral water)            0.025197   \n",
      "158     (spaghetti, olive oil)  (mineral water)            0.022930   \n",
      "156          (spaghetti, milk)  (mineral water)            0.035462   \n",
      "125          (chocolate, milk)  (mineral water)            0.032129   \n",
      "154   (spaghetti, ground beef)  (mineral water)            0.039195   \n",
      "\n",
      "     consequent support   support  confidence      lift  representativity  \\\n",
      "134            0.238368  0.010132    0.506667  2.125563               1.0   \n",
      "151            0.238368  0.011065    0.503030  2.110308               1.0   \n",
      "123            0.238368  0.010932    0.473988  1.988472               1.0   \n",
      "144            0.238368  0.011065    0.468927  1.967236               1.0   \n",
      "100            0.238368  0.023064    0.456464  1.914955               1.0   \n",
      "161            0.238368  0.011465    0.455026  1.908923               1.0   \n",
      "158            0.238368  0.010265    0.447674  1.878079               1.0   \n",
      "156            0.238368  0.015731    0.443609  1.861024               1.0   \n",
      "125            0.238368  0.013998    0.435685  1.827780               1.0   \n",
      "154            0.238368  0.017064    0.435374  1.826477               1.0   \n",
      "\n",
      "     leverage  conviction  zhangs_metric   jaccard  certainty  kulczynski  \n",
      "134  0.005365    1.543848       0.540342  0.040816   0.352268    0.274586  \n",
      "151  0.005822    1.532552       0.537969  0.044385   0.347493    0.274725  \n",
      "123  0.005434    1.447937       0.508837  0.043640   0.309362    0.259925  \n",
      "144  0.005440    1.434136       0.503555  0.044102   0.302716    0.257674  \n",
      "100  0.011020    1.401255       0.503221  0.086760   0.286354    0.276610  \n",
      "161  0.005459    1.397557       0.488452  0.045479   0.284466    0.251562  \n",
      "158  0.004799    1.378954       0.478514  0.040892   0.274813    0.245370  \n",
      "156  0.007278    1.368879       0.479672  0.060950   0.269475    0.254802  \n",
      "125  0.006340    1.349656       0.467922  0.054574   0.259071    0.247205  \n",
      "154  0.007722    1.348914       0.470957  0.065507   0.258663    0.253481  \n",
      "\n",
      "Interpretation of a rule (e.g., 'If {A} -> {B}'):\n",
      "- Support: The proportion of transactions that contain both A and B.\n",
      "- Confidence: The probability that a customer who buys A will also buy B.\n",
      "- Lift: The measure of how much more likely a customer is to buy B given they have already bought A, compared to the overall probability of buying B. A value > 1 indicates a positive correlation.\n"
     ]
    }
   ],
   "source": [
    "import pandas as pd\n",
    "from mlxtend.preprocessing import TransactionEncoder\n",
    "from mlxtend.frequent_patterns import apriori, association_rules\n",
    "\n",
    "file_path = \"Online retail.csv\"\n",
    "df = pd.read_csv(file_path, header=None)\n",
    "\n",
    "\n",
    "transactions = df[0].apply(lambda x: x.split(',')).tolist()\n",
    "\n",
    "transactions = [[item.strip() for item in sublist] for sublist in transactions]\n",
    "\n",
    "transactions = [[item for item in sublist if item] for sublist in transactions]\n",
    "\n",
    "transactions = [sublist for sublist in transactions if sublist]\n",
    "\n",
    "te = TransactionEncoder()\n",
    "te_ary = te.fit(transactions).transform(transactions)\n",
    "df_ohe = pd.DataFrame(te_ary, columns=te.columns_)\n",
    "\n",
    "\n",
    "frequent_itemsets = apriori(df_ohe, min_support=0.01, use_colnames=True)\n",
    "\n",
    "\n",
    "rules = association_rules(frequent_itemsets, metric=\"confidence\", min_threshold=0.2)\n",
    "rules = rules[rules['lift'] > 1.0]\n",
    "\n",
    "rules = rules.sort_values(['confidence', 'lift'], ascending=[False, False])\n",
    "\n",
    "print(\"Top 10 Association Rules:\")\n",
    "print(rules.head(10))\n",
    "print(\"\\nInterpretation of a rule (e.g., 'If {A} -> {B}'):\")\n",
    "print(\"- Support: The proportion of transactions that contain both A and B.\")\n",
    "print(\"- Confidence: The probability that a customer who buys A will also buy B.\")\n",
    "print(\"- Lift: The measure of how much more likely a customer is to buy B given they have already bought A, compared to the overall probability of buying B. A value > 1 indicates a positive correlation.\")\n",
    "\n",
    "rules.head(10).to_csv('top_10_association_rules.csv', index=False)"
   ]
  },
  {
   "cell_type": "code",
   "execution_count": null,
   "id": "f51c849b-e01d-44d0-b8f5-fe64cab0380c",
   "metadata": {},
   "outputs": [],
   "source": []
  }
 ],
 "metadata": {
  "kernelspec": {
   "display_name": "Python [conda env:base] *",
   "language": "python",
   "name": "conda-base-py"
  },
  "language_info": {
   "codemirror_mode": {
    "name": "ipython",
    "version": 3
   },
   "file_extension": ".py",
   "mimetype": "text/x-python",
   "name": "python",
   "nbconvert_exporter": "python",
   "pygments_lexer": "ipython3",
   "version": "3.13.5"
  }
 },
 "nbformat": 4,
 "nbformat_minor": 5
}
